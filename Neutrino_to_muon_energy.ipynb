{
 "cells": [
  {
   "cell_type": "code",
   "execution_count": 1,
   "id": "802a9ecb",
   "metadata": {},
   "outputs": [],
   "source": [
    "import glob\n",
    "import scipy.interpolate\n",
    "import scipy.integrate\n",
    "import numpy as np\n",
    "import matplotlib.pyplot as plt\n",
    "import pandas as pd"
   ]
  },
  {
   "cell_type": "markdown",
   "id": "8d49df40",
   "metadata": {},
   "source": [
    "This isn't coded in the best way, but first I run the signal energies (From MC_neutrino_data) through this and save it, then I run the background energies through this. "
   ]
  },
  {
   "cell_type": "code",
   "execution_count": 39,
   "id": "a9187ff2",
   "metadata": {},
   "outputs": [
    {
     "name": "stdout",
     "output_type": "stream",
     "text": [
      "71766 71766 71766\n"
     ]
    },
    {
     "data": {
      "text/plain": [
       "(array([4077., 3926., 4332., 4074., 3134., 1935., 1000.,  544.,  156.,\n",
       "          38.]),\n",
       " array([2.99504705, 3.33398724, 3.67292744, 4.01186763, 4.35080783,\n",
       "        4.68974802, 5.02868822, 5.36762841, 5.70656861, 6.0455088 ,\n",
       "        6.384449  ]),\n",
       " <BarContainer object of 10 artists>)"
      ]
     },
     "execution_count": 39,
     "metadata": {},
     "output_type": "execute_result"
    },
    {
     "data": {
      "image/png": "[encoded data removed]",
      "text/plain": [
       "<Figure size 432x288 with 1 Axes>"
      ]
     },
     "metadata": {
      "needs_background": "light"
     },
     "output_type": "display_data"
    }
   ],
   "source": [
    "\n",
    "##Load smearing data from IceCube\n",
    "data_file = \"./data/IC86_II_smearing.csv\"\n",
    "e_nu = np.array([])\n",
    "e_mu = np.array([])\n",
    "dec = np.array([])\n",
    "frac = np.array([])\n",
    "df = pd.DataFrame()    \n",
    "df = pd.concat([df, pd.read_fwf(data_file, header=None, skiprows=1)])\n",
    "\n",
    "e_nu = (df[0].to_numpy()+df[1].to_numpy())/2\n",
    "e_mu = (df[4].to_numpy()+df[5].to_numpy())/2\n",
    "dec =  (df[2].to_numpy()+df[3].to_numpy())/2\n",
    "frac = (df[10].to_numpy())\n",
    "\n",
    "\n",
    "e_nu = np.delete(e_nu, e_mu==0)\n",
    "dec = np.delete(dec, e_mu==0)\n",
    "frac = np.delete(frac, e_mu==0)\n",
    "e_mu = np.delete(e_mu, e_mu==0)\n",
    "\n",
    "#Comment out if generating signal \n",
    "\n",
    "icecube_data = np.load(\"./processed_data/background_energies.npz\",\n",
    "                       allow_pickle=True)\n",
    "data_dec = np.array(icecube_data[\"background_dec\"])\n",
    "data_eng = np.array(icecube_data[\"background_eng\"])\n",
    "data_ra = np.array(icecube_data[\"background_ra\"])\n",
    "\n",
    "\n",
    "\n",
    "\"\"\" \n",
    "\n",
    "icecube_data = np.load(\"./processed_data/signal_energies.npz\",\n",
    "                       allow_pickle=True)\n",
    "data_dec = np.array(icecube_data[\"signal_dec\"])\n",
    "data_eng = np.array(icecube_data[\"signal_eng\"])\n",
    "data_ra = np.array(icecube_data[\"signal_ra\"])\n",
    "\"\"\"\n",
    "\n",
    "print(len(data_dec),len(data_eng),len(data_ra))\n",
    "\n",
    "north_eng = np.zeros(len(data_eng[data_dec>=10]))\n",
    "horizon_eng = np.zeros(len(data_eng[np.logical_and(data_dec>=-10,data_dec<10)]))\n",
    "south_eng = np.zeros(len(data_eng[data_dec>=10]))\n",
    "\n",
    "north_eng = data_eng[data_dec>=10]\n",
    "horizon_eng = data_eng[np.logical_and(data_dec>=-10,data_dec<10)]\n",
    "south_eng = data_eng[data_dec<-10]\n",
    "\n",
    "plt.hist(south_eng)"
   ]
  },
  {
   "cell_type": "code",
   "execution_count": 41,
   "id": "0aa3a8bb",
   "metadata": {
    "scrolled": true
   },
   "outputs": [
    {
     "name": "stdout",
     "output_type": "stream",
     "text": [
      "[2.25 2.75 3.25 3.75 4.25 4.75 5.25 5.75 6.25 6.75 7.25 7.75 8.25 8.75]\n"
     ]
    },
    {
     "data": {
      "image/png": "[encoded data removed]",
      "text/plain": [
       "<Figure size 432x288 with 1 Axes>"
      ]
     },
     "metadata": {
      "needs_background": "light"
     },
     "output_type": "display_data"
    },
    {
     "data": {
      "image/png": "[encoded data removed]",
      "text/plain": [
       "<Figure size 432x288 with 1 Axes>"
      ]
     },
     "metadata": {
      "needs_background": "light"
     },
     "output_type": "display_data"
    },
    {
     "name": "stdout",
     "output_type": "stream",
     "text": [
      "23216\n"
     ]
    }
   ],
   "source": [
    "\n",
    "##Find the indices of the smearing data of the south, and set new variables of neutrino, muon, and fractional\n",
    "##data for those indices. Lim is the average of the bounds for neutrino energy\n",
    "\n",
    "\n",
    "index = []\n",
    "for i in range(len(dec)):\n",
    "    if dec[i]<-10:\n",
    "        index.insert(len(index),i)\n",
    "lim = [2.25, 2.75, 3.25,3.75,4.25,4.75,5.25,5.75,6.25,6.75,7.25,7.75,8.25,8.75]\n",
    "regional_e_mu = e_mu[index]\n",
    "regional_e_nu = e_nu[index]\n",
    "regional_frac = frac[index]\n",
    "alphs = [1,.9,.85,.8,.7,.65,.6,.5,.4,.35,.3,.2,.1]\n",
    "\n",
    "print(np.unique(regional_e_nu))\n",
    "\n",
    "##Here I define variables of the unique muon energy bins in the IceCube data (mainly for plot recreation)\n",
    "##Then, I define total_frac, which sums over the fractional value of each individual data point. \n",
    "##Next is new_e_mu, which is where I will store the muon energy converted from neutrino energy.\n",
    "##Muon is the linspace to create the function over, where the bounds are the min and max of the distribution given\n",
    "\n",
    "unique_mu = np.zeros((14,20))\n",
    "total_frac = np.zeros((14,20))\n",
    "new_e_mu = np.zeros(len(south_eng))\n",
    "lower_bound = [2.0, 2.5, 3.0, 3.5,4.0,4.5,5.0,5.5,6.0,6.5,7.0,7.5,8.0,8.5]\n",
    "upper_bound = [2.5, 3.0, 3.5, 4.0,4.5,5.0,5.5,6.0,6.5,7.0,7.5,8.0,8.5,9.0]\n",
    "label = [\"2.5 < Log(E) <3.0\",\n",
    "         \"2.5 < Log(E) <3.0\",\n",
    "         \"2.5 < Log(E) <3.0\",\n",
    "         \"3.5 < Log(E) <4.0\",\n",
    "         \"2.5 < Log(E) <3.0\",\n",
    "         \"4.5 < Log(E) <5.0\",\n",
    "         \"2.5 < Log(E) <3.0\",\n",
    "         \"5.5 < Log(E) <6.0\",\n",
    "         \"2.5 < Log(E) <3.0\",\n",
    "         \"6.5 < Log(E) <7.0\",\n",
    "         \"2.5 < Log(E) <3.0\",\n",
    "         \"7.5 < Log(E) <8.0\",\n",
    "         \"2.5 < Log(E) <3.0\",\n",
    "         \"2.5 < Log(E) <3.0\"]\n",
    "muon = np.zeros((14,1000))\n",
    "for k in range(len(lim)):\n",
    "    if regional_e_nu.any()==lim[k]:\n",
    "        print(\"hi\")\n",
    "    unique_mu[k] = np.unique(regional_e_mu[regional_e_nu==lim[k]])\n",
    "    for i, unique in enumerate(unique_mu[k]):\n",
    "        total_frac[k][i] = np.sum(regional_frac[unique==regional_e_mu])\n",
    "    \n",
    "    if (k % 2) != 0:   \n",
    "        plt.step(unique_mu[k],total_frac[k], label = label[k])\n",
    "        plt.xlim(0,10)\n",
    "        plt.ylim(0,0.6)\n",
    "        plt.legend()\n",
    "        plt.xlabel(\"Log10(Muon proxy/GeV))\")\n",
    "        plt.ylabel(\"Fraction of bin\")\n",
    "        plt.title(\"south\")\n",
    "    muon[k]=np.linspace(np.min(unique_mu[k]),np.max(unique_mu[k]),1000)\n",
    "    func = scipy.interpolate.interp1d(unique_mu[k], total_frac[k], bounds_error=False, fill_value=0)\n",
    "    new_e_mu[np.logical_and(south_eng<upper_bound[k],south_eng>=lower_bound[k])] = np.random.choice(muon[k],\n",
    "                                                                                                      p = (func(muon[k])/np.sum(func(muon[k]))),\n",
    "                                                                                                      size = len(new_e_mu[np.logical_and(south_eng<upper_bound[k],south_eng>=lower_bound[k])]))\n",
    "plt.show()\n",
    "plt.hist(new_e_mu, bins = 100)\n",
    "plt.xlim(0,8)\n",
    "plt.show()\n",
    "data_eng[data_dec<-10] = new_e_mu\n",
    "print(len(new_e_mu))"
   ]
  },
  {
   "cell_type": "code",
   "execution_count": 42,
   "id": "35ca719d",
   "metadata": {
    "scrolled": true
   },
   "outputs": [
    {
     "name": "stdout",
     "output_type": "stream",
     "text": [
      "2.995047045446462\n"
     ]
    },
    {
     "data": {
      "image/png": "[encoded data removed]",
      "text/plain": [
       "<Figure size 432x288 with 1 Axes>"
      ]
     },
     "metadata": {
      "needs_background": "light"
     },
     "output_type": "display_data"
    },
    {
     "name": "stdout",
     "output_type": "stream",
     "text": [
      "17209\n"
     ]
    },
    {
     "data": {
      "image/png": "[encoded data removed]",
      "text/plain": [
       "<Figure size 432x288 with 1 Axes>"
      ]
     },
     "metadata": {
      "needs_background": "light"
     },
     "output_type": "display_data"
    }
   ],
   "source": [
    "\n",
    "##Find the indices of the smearing data of the Horizon, and set new variables of neutrino, muon, and fractional\n",
    "##data for those indices. Lim is the average of the bounds for neutrino energy\n",
    "\n",
    "\n",
    "index = []\n",
    "for i in range(len(dec)):\n",
    "    if np.logical_and(dec[i]>= -10, dec[i]<10):\n",
    "        index.insert(len(index),i)\n",
    "lim = [2.25,2.75,3.25,3.75,4.25,4.75,5.25,5.75,6.25,6.75,7.25,7.75,8.25,8.75]\n",
    "regional_e_mu = e_mu[index]\n",
    "regional_e_nu = e_nu[index]\n",
    "regional_frac = frac[index]\n",
    "label = [\"2.5 < Log(E) <3.0\",\n",
    "         \"2.5 < Log(E) <3.0\",\n",
    "         \"2.5 < Log(E) <3.0\",\n",
    "         \"3.5 < Log(E) <4.0\",\n",
    "         \"2.5 < Log(E) <3.0\",\n",
    "         \"4.5 < Log(E) <5.0\",\n",
    "         \"2.5 < Log(E) <3.0\",\n",
    "         \"5.5 < Log(E) <6.0\",\n",
    "         \"2.5 < Log(E) <3.0\",\n",
    "         \"6.5 < Log(E) <7.0\",\n",
    "         \"2.5 < Log(E) <3.0\",\n",
    "         \"7.5 < Log(E) <8.0\",\n",
    "         \"2.5 < Log(E) <3.0\",\n",
    "         \"2.5 < Log(E) <3.0\"]\n",
    "\n",
    "\n",
    "\n",
    "\n",
    "##Here I define variables of the unique muon energy bins in the IceCube data (mainly for plot recreation)\n",
    "##Then, I define total_frac, which sums over the fractional value of each individual data point. \n",
    "##Next is new_e_mu, which is where I will store the muon energy converted from neutrino energy.\n",
    "##Muon is the linspace to create the function over, where the bounds are the min and max of the distribution given\n",
    "\n",
    "unique_mu = np.zeros((14,20))\n",
    "total_frac = np.zeros((14,20))\n",
    "new_e_mu = np.ones(len(horizon_eng))\n",
    "print(np.min(horizon_eng))\n",
    "lower_bound = [2.0,2.5,3.0,3.5,4.0,4.5,5.0,5.5,6.0,6.5,7.0,7.5,8.0,8.5]\n",
    "upper_bound = [2.5,3.0,3.5,4.0,4.5,5.0,5.5,6.0,6.5,7.0,7.5,8.0,8.5,9.0]\n",
    "muon = np.zeros((14,1000))\n",
    "\n",
    "for k in range(len(lim)):\n",
    "    unique_mu[k] = np.unique(regional_e_mu[regional_e_nu==lim[k]])\n",
    "    for i, unique in enumerate(unique_mu[k]):\n",
    "        total_frac[k][i] = np.sum(regional_frac[unique==regional_e_mu])\n",
    "    if (k% 2)  !=0:    \n",
    "        plt.step(unique_mu[k],total_frac[k],label = label[k])\n",
    "        plt.xlim(0,10)\n",
    "        plt.ylim(0,0.6)\n",
    "        plt.legend()\n",
    "        plt.xlabel(\"Log10(Muon proxy/GeV))\")\n",
    "        plt.ylabel(\"Fraction of bin\")\n",
    "        plt.title(\"Horizon\")\n",
    "    muon[k]=np.linspace(np.min(unique_mu[k]),np.max(unique_mu[k]),1000)\n",
    "    func = scipy.interpolate.interp1d(unique_mu[k], total_frac[k], bounds_error=False, fill_value=0)\n",
    "    new_e_mu[np.logical_and(horizon_eng<upper_bound[k],horizon_eng>=lower_bound[k])] = np.random.choice(muon[k],\n",
    "                                                                                                      p = (func(muon[k])/np.sum(func(muon[k]))),\n",
    "                                                                                                      size = len(new_e_mu[np.logical_and(horizon_eng<upper_bound[k],horizon_eng>=lower_bound[k])]))\n",
    "\n",
    "plt.show()\n",
    "plt.hist(new_e_mu)\n",
    "print(len(new_e_mu))\n",
    "data_eng[np.logical_and(data_dec>= -10,data_dec<10)] = new_e_mu\n"
   ]
  },
  {
   "cell_type": "code",
   "execution_count": 45,
   "id": "d6e73626",
   "metadata": {
    "scrolled": true
   },
   "outputs": [
    {
     "name": "stdout",
     "output_type": "stream",
     "text": [
      "1.155\n",
      "1.1495\n",
      "1.2195\n",
      "1.2875\n",
      "1.319\n",
      "1.5070000000000001\n",
      "1.581\n",
      "1.492\n",
      "1.4015\n",
      "1.496\n",
      "1.492\n",
      "1.939\n",
      "1.7905\n",
      "2.3165\n"
     ]
    },
    {
     "data": {
      "image/png": "[encoded data removed]",
      "text/plain": [
       "<Figure size 432x288 with 1 Axes>"
      ]
     },
     "metadata": {
      "needs_background": "light"
     },
     "output_type": "display_data"
    },
    {
     "name": "stdout",
     "output_type": "stream",
     "text": [
      "31341\n"
     ]
    },
    {
     "data": {
      "image/png": "[encoded data removed]",
      "text/plain": [
       "<Figure size 432x288 with 1 Axes>"
      ]
     },
     "metadata": {
      "needs_background": "light"
     },
     "output_type": "display_data"
    }
   ],
   "source": [
    "index = []\n",
    "for i in range(len(dec)):\n",
    "    if dec[i] >=10:\n",
    "        index.insert(len(index),i)\n",
    "lim = [2.25,2.75,3.25,3.75,4.25,4.75,5.25,5.75,6.25,6.75,7.25,7.75,8.25,8.75]\n",
    "regional_e_mu = e_mu[index]\n",
    "regional_e_nu = e_nu[index]\n",
    "regional_frac = frac[index]\n",
    "label = [\"2.5 < Log(E) <3.0\",\n",
    "         \"2.5 < Log(E) <3.0\",\n",
    "         \"2.5 < Log(E) <3.0\",\n",
    "         \"3.5 < Log(E) <4.0\",\n",
    "         \"2.5 < Log(E) <3.0\",\n",
    "         \"4.5 < Log(E) <5.0\",\n",
    "         \"2.5 < Log(E) <3.0\",\n",
    "         \"5.5 < Log(E) <6.0\",\n",
    "         \"2.5 < Log(E) <3.0\",\n",
    "         \"6.5 < Log(E) <7.0\",\n",
    "         \"2.5 < Log(E) <3.0\",\n",
    "         \"7.5 < Log(E) <8.0\",\n",
    "         \"2.5 < Log(E) <3.0\",\n",
    "         \"2.5 < Log(E) <3.0\"]\n",
    "\n",
    "\n",
    "\n",
    "\n",
    "##Here I define variables of the unique muon energy bins in the IceCube data (mainly for plot recreation)\n",
    "##Then, I define total_frac, which sums over the fractional value of each individual data point. \n",
    "##Next is new_e_mu, which is where I will store the muon energy converted from neutrino energy.\n",
    "##Muon is the linspace to create the function over, where the bounds are the min and max of the distribution given\n",
    "\n",
    "unique_mu = np.zeros((14,20))\n",
    "total_frac = np.zeros((14,20))\n",
    "new_e_mu = np.zeros(len(north_eng))\n",
    "lower_bound = [2.0,2.5,3.0,3.5,4.0,4.5,5.0,5.5,6.0,6.5,7.0,7.5,8.0,8.5]\n",
    "upper_bound = [2.5,3.0,3.5,4.0,4.5,5.0,5.5,6.0,6.5,7.0,7.5,8.0,8.5,9.0]\n",
    "muon = np.zeros((14,1000))\n",
    "\n",
    "for k in range(len(lim)):\n",
    "    unique_mu[k] = np.unique(regional_e_mu[regional_e_nu==lim[k]])\n",
    "    for i, unique in enumerate(unique_mu[k]):\n",
    "        total_frac[k][i] = np.sum(regional_frac[unique==regional_e_mu])\n",
    "    if (k % 2) != 0:    \n",
    "        plt.step(unique_mu[k],total_frac[k],label = label[k])\n",
    "        plt.xlim(0,10)\n",
    "        plt.ylim(0,0.6)\n",
    "        legend = plt.legend()\n",
    "        plt.xlabel(\"Log10(Muon proxy/GeV))\")\n",
    "        plt.ylabel(\"Fraction of bin\")\n",
    "        plt.title(\"Northern Sky (dec > 10 deg)\")\n",
    "    muon[k]=np.linspace(np.min(unique_mu[k]),np.max(unique_mu[k]),1000)\n",
    "    print(np.min(unique_mu[k]))\n",
    "    func = scipy.interpolate.interp1d(unique_mu[k], total_frac[k], bounds_error=False, fill_value=0)\n",
    "    new_e_mu[np.logical_and(north_eng<upper_bound[k],north_eng>=lower_bound[k])] = np.random.choice(muon[k],\n",
    "                                                                                                      p = (func(muon[k])/np.sum(func(muon[k]))),\n",
    "                                                                                                      size = len(new_e_mu[np.logical_and(north_eng<upper_bound[k],north_eng>=lower_bound[k])]))\n",
    "legend.set_title(\"Neutrino energy (GeV)\")\n",
    "plt.show()\n",
    "print(len(new_e_mu))\n",
    "plt.hist(new_e_mu)\n",
    "plt.xlim(2,8)\n",
    "data_eng[data_dec>=10] = new_e_mu\n"
   ]
  },
  {
   "cell_type": "code",
   "execution_count": 63,
   "id": "a2fc7a0f",
   "metadata": {},
   "outputs": [],
   "source": [
    "np.savez(\"./processed_data/background_energies_muon.npz\",\n",
    "        data_eng = data_eng,\n",
    "        data_dec = data_dec,\n",
    "        data_ra = data_ra)\n",
    "\n",
    "\"\"\"\n",
    "np.savez(\"./processed_data/signal_energies_muon.npz\",\n",
    "        data_eng = data_eng,\n",
    "        data_dec = data_dec,\n",
    "        data_ra = data_ra)\n",
    "\n",
    "\"\"\""
   ]
  },
  {
   "cell_type": "code",
   "execution_count": null,
   "id": "e1acdade",
   "metadata": {},
   "outputs": [],
   "source": []
  }
 ],
 "metadata": {
  "kernelspec": {
   "display_name": "Python 3",
   "language": "python",
   "name": "python3"
  },
  "language_info": {
   "codemirror_mode": {
    "name": "ipython",
    "version": 3
   },
   "file_extension": ".py",
   "mimetype": "text/x-python",
   "name": "python",
   "nbconvert_exporter": "python",
   "pygments_lexer": "ipython3",
   "version": "3.7.6"
  }
 },
 "nbformat": 4,
 "nbformat_minor": 5
}
