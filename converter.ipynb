{
 "cells": [
  {
   "cell_type": "code",
   "execution_count": 3,
   "id": "32f6df6e",
   "metadata": {},
   "outputs": [
    {
     "name": "stdout",
     "output_type": "stream",
     "text": [
      "Line 10000 of ./IC79-2010-events.txt\n",
      "Line 20000 of ./IC79-2010-events.txt\n",
      "Line 30000 of ./IC79-2010-events.txt\n",
      "Line 40000 of ./IC79-2010-events.txt\n",
      "Line 50000 of ./IC79-2010-events.txt\n",
      "Line 60000 of ./IC79-2010-events.txt\n",
      "Line 70000 of ./IC79-2010-events.txt\n",
      "Line 80000 of ./IC79-2010-events.txt\n",
      "Line 90000 of ./IC79-2010-events.txt\n",
      "Line 10000 of ./IC86-2011-events.txt\n",
      "Line 20000 of ./IC86-2011-events.txt\n",
      "Line 30000 of ./IC86-2011-events.txt\n",
      "Line 40000 of ./IC86-2011-events.txt\n",
      "Line 50000 of ./IC86-2011-events.txt\n",
      "Line 60000 of ./IC86-2011-events.txt\n",
      "Line 70000 of ./IC86-2011-events.txt\n",
      "Line 80000 of ./IC86-2011-events.txt\n",
      "Line 90000 of ./IC86-2011-events.txt\n",
      "Line 100000 of ./IC86-2011-events.txt\n",
      "Line 110000 of ./IC86-2011-events.txt\n",
      "Line 120000 of ./IC86-2011-events.txt\n",
      "Line 130000 of ./IC86-2011-events.txt\n",
      "Line 10000 of ./IC86-2012-events.txt\n",
      "Line 20000 of ./IC86-2012-events.txt\n",
      "Line 30000 of ./IC86-2012-events.txt\n",
      "Line 40000 of ./IC86-2012-events.txt\n",
      "Line 50000 of ./IC86-2012-events.txt\n",
      "Line 60000 of ./IC86-2012-events.txt\n",
      "Line 70000 of ./IC86-2012-events.txt\n",
      "Line 80000 of ./IC86-2012-events.txt\n",
      "Line 90000 of ./IC86-2012-events.txt\n",
      "Line 100000 of ./IC86-2012-events.txt\n"
     ]
    }
   ],
   "source": [
    "import numpy as np\n",
    "import matplotlib.pyplot as plt\n",
    "import scipy.interpolate\n",
    "import glob\n",
    "\n",
    "data_files = glob.glob(\"./IC*-events.txt\")\n",
    "data_sigmas = []\n",
    "data_ra = []\n",
    "data_dec = []\n",
    "data_day = []\n",
    "\n",
    "for data_file_name in data_files:\n",
    "    f = open(data_file_name)\n",
    "\n",
    "    for i, line in enumerate(f):\n",
    "        if(i == 0):\n",
    "            #print(line)\n",
    "            continue\n",
    "        \n",
    "        if(i % 10000 == 0):\n",
    "            print(\"Line\", i,\"of\",data_file_name)\n",
    "        \n",
    "        line_ = line.split(\" \")\n",
    "        line_ = np.array(line_)[np.array(line_) != '']\n",
    "        data_day += [float(line_[0])]\n",
    "        data_sigmas += [float(line_[2])]\n",
    "        data_ra += [float(line_[3])]\n",
    "        data_dec += [float(line_[4])]\n",
    "\n",
    "#plt.hist(data_day, 1085)\n",
    "#plt.hist(data_day, 2000)\n",
    "#plt.show()\n",
    "#exit()\n",
    "        \n",
    "data_sigmas = np.deg2rad(np.array(data_sigmas))\n",
    "data_ra     = np.deg2rad(np.array(data_ra))\n",
    "data_dec    = np.deg2rad(np.array(data_dec))\n",
    "    \n",
    "data_sigmas = data_sigmas[np.abs(data_dec) < np.deg2rad(87.0)]\n",
    "data_ra     = data_ra[np.abs(data_dec) < np.deg2rad(87.0)]\n",
    "data_dec    = data_dec[np.abs(data_dec) < np.deg2rad(87.0)]\n",
    "data_sin_dec = np.sin(data_dec)\n",
    "\n",
    "np.savez(\"./output_icecube_data.npz\", data_sigmas=data_sigmas, data_ra=data_ra, data_dec=data_dec, data_sin_dec=data_sin_dec)"
   ]
  },
  {
   "cell_type": "code",
   "execution_count": null,
   "id": "244d6614",
   "metadata": {},
   "outputs": [],
   "source": []
  }
 ],
 "metadata": {
  "kernelspec": {
   "display_name": "Python 3",
   "language": "python",
   "name": "python3"
  },
  "language_info": {
   "codemirror_mode": {
    "name": "ipython",
    "version": 3
   },
   "file_extension": ".py",
   "mimetype": "text/x-python",
   "name": "python",
   "nbconvert_exporter": "python",
   "pygments_lexer": "ipython3",
   "version": "3.8.8"
  }
 },
 "nbformat": 4,
 "nbformat_minor": 5
}
