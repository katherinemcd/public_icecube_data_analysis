{
 "cells": [
  {
   "cell_type": "markdown",
   "metadata": {},
   "source": [
    "# Creating fake 4LAC\n",
    "\n",
    "First, I use this that I found on stack exchange just so that I can import IceCubeAnalysis as a notebook"
   ]
  },
  {
   "cell_type": "code",
   "execution_count": 1,
   "metadata": {},
   "outputs": [
    {
     "name": "stderr",
     "output_type": "stream",
     "text": [
      "/software/python-anaconda-2020.02-el7-x86_64/lib/python3.7/site-packages/nbformat/current.py:19: UserWarning: nbformat.current is deprecated.\n",
      "\n",
      "- use nbformat for read/write/validate public API\n",
      "- use nbformat.vX directly to composing notebooks of a particular version\n",
      "\n",
      "  \"\"\"\n"
     ]
    }
   ],
   "source": [
    "\n",
    "\n",
    "import io, os, sys, types\n",
    "from IPython import get_ipython\n",
    "from nbformat import current\n",
    "from IPython.core.interactiveshell import InteractiveShell\n",
    "def find_notebook(fullname, path=None):\n",
    "    \"\"\"find a notebook, given its fully qualified name and an optional path\n",
    "\n",
    "    This turns \"foo.bar\" into \"foo/bar.ipynb\"\n",
    "    and tries turning \"Foo_Bar\" into \"Foo Bar\" if Foo_Bar\n",
    "    does not exist.\n",
    "    \"\"\"\n",
    "    name = fullname.rsplit('.', 1)[-1]\n",
    "    if not path:\n",
    "        path = ['']\n",
    "    for d in path:\n",
    "        nb_path = os.path.join(d, name + \".ipynb\")\n",
    "        if os.path.isfile(nb_path):\n",
    "            return nb_path\n",
    "        # let import Notebook_Name find \"Notebook Name.ipynb\"\n",
    "        nb_path = nb_path.replace(\"_\", \" \")\n",
    "        if os.path.isfile(nb_path):\n",
    "            return nb_path\n",
    "\n",
    "\n",
    "class NotebookLoader(object):\n",
    "    \"\"\"Module Loader for Jupyter Notebooks\"\"\"\n",
    "    def __init__(self, path=None):\n",
    "        self.shell = InteractiveShell.instance()\n",
    "        self.path = path\n",
    "\n",
    "    def load_module(self, fullname):\n",
    "        \"\"\"import a notebook as a module\"\"\"\n",
    "        path = find_notebook(fullname, self.path)\n",
    "\n",
    "        print (\"importing Jupyter notebook from %s\" % path)\n",
    "\n",
    "        # load the notebook object\n",
    "        with io.open(path, 'r', encoding='utf-8') as f:\n",
    "            nb = current.read(f, 'json')\n",
    "\n",
    "\n",
    "        # create the module and add it to sys.modules\n",
    "        # if name in sys.modules:\n",
    "        #    return sys.modules[name]\n",
    "        mod = types.ModuleType(fullname)\n",
    "        mod.__file__ = path\n",
    "        mod.__loader__ = self\n",
    "        mod.__dict__['get_ipython'] = get_ipython\n",
    "        sys.modules[fullname] = mod\n",
    "\n",
    "        # extra work to ensure that magics that would affect the user_ns\n",
    "        # actually affect the notebook module's ns\n",
    "        save_user_ns = self.shell.user_ns\n",
    "        self.shell.user_ns = mod.__dict__\n",
    "\n",
    "        try:\n",
    "            for cell in nb.worksheets[0].cells:\n",
    "                if cell.cell_type == 'code' and cell.language == 'python':\n",
    "                # transform the input to executable Python\n",
    "                    code = self.shell.input_transformer_manager.transform_cell(cell.input)\n",
    "                # run the code in themodule\n",
    "                    exec(code, mod.__dict__)\n",
    "        finally:\n",
    "            self.shell.user_ns = save_user_ns\n",
    "        return mod\n",
    "\n",
    "\n",
    "class NotebookFinder(object):\n",
    "    \"\"\"Module finder that locates Jupyter Notebooks\"\"\"\n",
    "    def __init__(self):\n",
    "        self.loaders = {}\n",
    "\n",
    "    def find_module(self, fullname, path=None):\n",
    "        nb_path = find_notebook(fullname, path)\n",
    "        if not nb_path:\n",
    "            return\n",
    "\n",
    "        key = path\n",
    "        if path:\n",
    "            # lists aren't hashable\n",
    "            key = os.path.sep.join(path)\n",
    "\n",
    "        if key not in self.loaders:\n",
    "            self.loaders[key] = NotebookLoader(path)\n",
    "        return self.loaders[key]\n",
    "\n",
    "sys.meta_path.append(NotebookFinder())"
   ]
  },
  {
   "cell_type": "code",
   "execution_count": 2,
   "metadata": {},
   "outputs": [
    {
     "name": "stdout",
     "output_type": "stream",
     "text": [
      "importing Jupyter notebook from IceCubeAnalysis2.ipynb\n"
     ]
    }
   ],
   "source": [
    "import time\n",
    "import numpy as np\n",
    "import matplotlib.pyplot as plt\n",
    "from multiprocessing import Pool\n",
    "import IceCubeAnalysis2"
   ]
  },
  {
   "cell_type": "markdown",
   "metadata": {},
   "source": [
    "Next I load the real 4lac and icecube data. "
   ]
  },
  {
   "cell_type": "code",
   "execution_count": 3,
   "metadata": {},
   "outputs": [],
   "source": [
    "\n",
    "#Load all the old data in order to create fake data of these distributions\n",
    "catalog_file_name =  \"./processed_data/4LAC_catelogy.npz\"\n",
    "weights_type = 'flat'\n",
    "source_class_names = ['BLL', 'bll', 'FSRQ', 'fsrq', 'BCU', 'bcu','RDG', 'rdg', 'AGN', 'agn', 'NLSY1', 'nlsy1','CSS','css','SSRQ','ssrq','SEY','sey']\n",
    "icecube_file_name = \"./processed_data/output_icecube_data.npz\"\n",
    "background_file_name = \"./processed_data/output_icecube_background_count.npz\"\n",
    "\n",
    "\n",
    "#Set variables for integration\n",
    "T = (10.0 * 365.25 * 24.0 * 3600.0)\n",
    "E1 = 100.0\n",
    "E2 = 30.0\n",
    "alpha = 2.5\n",
    "Aeff_filename = \"./processed_data/output_icecube_AffIntegrated_%s.npz\" % alpha\n",
    "\n",
    "#Process Aeff and catelogue\n",
    "sourcesearch_ = IceCubeAnalysis2.SourceSearch(icecube_file_name)\n",
    "sourcesearch_.load_background(background_file_name)\n",
    "\n",
    "class_search = IceCubeAnalysis2.SourceClassSearch(T, E1, E2, alpha, sourcesearch_, Aeff_filename)\n",
    "class_search.load_4lac(catalog_file_name, source_class_names, weights_type)\n"
   ]
  },
  {
   "cell_type": "markdown",
   "metadata": {},
   "source": [
    "Then I set the variables to be saved as the fake data to be with the same distribution as the real 4lac data. I set cat_names and cat_type all to the same thing for simplicity right now. Eventually I want to separate by blazar and nonblazar. I also need to edit out the milky way! "
   ]
  },
  {
   "cell_type": "code",
   "execution_count": 4,
   "metadata": {},
   "outputs": [],
   "source": [
    "cat_ra = np.random.choice(class_search.cat_ra,class_search.N)\n",
    "cat_dec= np.random.choice(class_search.cat_dec,class_search.N)\n",
    "cat_names = np.zeros(class_search.N).tolist()\n",
    "cat_type = np.zeros(class_search.N).tolist()\n",
    "cat_flux1000 = class_search.cat_flux1000\n",
    "cat_z = np.random.choice(class_search.cat_z,class_search.N)\n",
    "cat_var_index = np.random.choice(class_search.cat_var_index,class_search.N)\n",
    "\n",
    "for i in range(class_search.N):\n",
    "    cat_names[i] = \"hello\"\n",
    "    cat_type[i] = 'agn'\n"
   ]
  },
  {
   "cell_type": "markdown",
   "metadata": {},
   "source": [
    "Here I save all the fake data to a file, then I randomly select the coordinates of 10 fake sources and save them. This is so that I can eventually assign fake neutrino signals to these sources.  "
   ]
  },
  {
   "cell_type": "code",
   "execution_count": 5,
   "metadata": {},
   "outputs": [
    {
     "name": "stdout",
     "output_type": "stream",
     "text": [
      "[ 21.87010002 143.1802063  295.34680176 158.4848938  322.55239868\n",
      " 148.56809998 112.05120087  50.93870163  17.69339943 338.84091187] [-48.91049957 -57.29090118 -10.7730999    6.14309978  10.77530003\n",
      "  20.94610023  10.49380016  37.64519882  -3.98650002 -36.48849869]\n"
     ]
    }
   ],
   "source": [
    "np.savez(\"./processed_data/fake_4lac_set.npz\",\n",
    "         cat_names=cat_names,\n",
    "         cat_ra=cat_ra,\n",
    "         cat_dec=cat_dec,\n",
    "         cat_type=cat_type,\n",
    "         cat_flux1000=cat_flux1000,\n",
    "         cat_z=cat_z,\n",
    "         cat_var_index=cat_var_index)\n",
    "\n",
    "#Randomly select 10 fake sources to place fake neutrinos at. Save this file. \n",
    "specific_ra = np.zeros(10)\n",
    "specific_dec = np.zeros(10)\n",
    "for i in range(10):\n",
    "    index = np.random.randint(len(cat_ra),size=1)\n",
    "    specific_ra[i] = cat_ra[index] \n",
    "    specific_dec[i] = cat_dec[index]\n",
    "np.savez(\"./processed_data/specific_coords.npz\",\n",
    "         specific_ra = specific_ra,\n",
    "         specific_dec = specific_dec)"
   ]
  },
  {
   "cell_type": "code",
   "execution_count": null,
   "metadata": {},
   "outputs": [],
   "source": []
  },
  {
   "cell_type": "code",
   "execution_count": null,
   "metadata": {},
   "outputs": [],
   "source": []
  }
 ],
 "metadata": {
  "kernelspec": {
   "display_name": "Python 3",
   "language": "python",
   "name": "python3"
  },
  "language_info": {
   "codemirror_mode": {
    "name": "ipython",
    "version": 3
   },
   "file_extension": ".py",
   "mimetype": "text/x-python",
   "name": "python",
   "nbconvert_exporter": "python",
   "pygments_lexer": "ipython3",
   "version": "3.7.6"
  }
 },
 "nbformat": 4,
 "nbformat_minor": 4
}
