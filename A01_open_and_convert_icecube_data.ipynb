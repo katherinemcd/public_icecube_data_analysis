{
 "cells": [
  {
   "cell_type": "markdown",
   "metadata": {},
   "source": [
    "## Loads the IceCube data files depending on which aspect of the analysis you are running"
   ]
  },
  {
   "cell_type": "code",
   "execution_count": 2,
   "metadata": {},
   "outputs": [
    {
     "name": "stdout",
     "output_type": "stream",
     "text": [
      "Loading filename: ./data/events/IC86_II_exp.txt\n",
      "Loading filename: ./data/events/IC86_III_exp.txt\n",
      "Loading filename: ./data/events/IC86_VI_exp.txt\n",
      "Loading filename: ./data/events/IC86_I_exp.txt\n",
      "Loading filename: ./data/events/IC86_IV_exp.txt\n",
      "Loading filename: ./data/events/IC59_exp.txt\n",
      "Loading filename: ./data/events/IC40_exp.txt\n",
      "Loading filename: ./data/events/IC86_VII_exp.txt\n",
      "Loading filename: ./data/events/IC86_V_exp.txt\n",
      "Loading filename: ./data/events/IC79_exp.txt\n"
     ]
    }
   ],
   "source": [
    "import glob\n",
    "import numpy as np\n",
    "import matplotlib.pyplot as plt\n",
    "data_files = glob.glob(\"./data/events/IC*.txt\")\n",
    "data_file_year = np.array([])\n",
    "data_day = np.array([])\n",
    "data_sigmas = np.array([])\n",
    "data_ra = np.array([])\n",
    "data_dec = np.array([])\n",
    "data_eng = np.array([])\n",
    "for data_file_name in data_files:\n",
    "    print(\"Loading filename: %s\" % data_file_name)\n",
    "    f = open(data_file_name)\n",
    "\n",
    "    year = int(2011)#data_file_name.split(\"-\")[-2])\n",
    "\n",
    "    data = np.loadtxt(data_file_name, dtype='float')\n",
    "    data_file_year = np.append(data_file_year,\n",
    "                               year * np.ones(len(data), dtype='int'))                                              \n",
    "    data_eng = np.append(data_eng, data[:,1])\n",
    "    data_day = np.append(data_day, data[:, 0])\n",
    "    data_sigmas = np.append(data_sigmas, data[:, 2])\n",
    "    data_ra = np.append(data_ra, data[:, 3])\n",
    "    data_dec = np.append(data_dec, data[:, 4])\n",
    "    "
   ]
  },
  {
   "cell_type": "code",
   "execution_count": 3,
   "metadata": {},
   "outputs": [
    {
     "data": {
      "text/plain": [
       "array([56043.42668248, 56043.42980642, 56043.43207567, ...,\n",
       "       55694.40030992, 55694.40227392, 55694.40506314])"
      ]
     },
     "execution_count": 3,
     "metadata": {},
     "output_type": "execute_result"
    }
   ],
   "source": [
    "data_day"
   ]
  },
  {
   "cell_type": "markdown",
   "metadata": {},
   "source": [
    "For spacial analysis"
   ]
  },
  {
   "cell_type": "code",
   "execution_count": 4,
   "metadata": {},
   "outputs": [],
   "source": [
    "np.savez(\"./processed_data/output_icecube_data_spacial.npz\",\n",
    "         data_day = data_day,\n",
    "         data_sigmas = data_sigmas,\n",
    "         data_ra = data_ra, \n",
    "         data_eng = data_eng, \n",
    "         data_dec = data_dec, \n",
    "         data_file_year = data_file_year)"
   ]
  },
  {
   "cell_type": "markdown",
   "metadata": {},
   "source": [
    " For time analysis"
   ]
  },
  {
   "cell_type": "code",
   "execution_count": 5,
   "metadata": {},
   "outputs": [],
   "source": [
    "\n",
    "time_sort = np.argsort(data_day[np.logical_and(data_eng>2.0, data_day<=57726.0)])\n",
    "\n",
    "np.savez(\"./processed_data/output_icecube_data_time.npz\",\n",
    "         data_day=data_day[np.logical_and(data_eng>2.0, data_day<=57726.0)][time_sort],\n",
    "         data_sigmas=data_sigmas[np.logical_and(data_eng>2.0,  data_day<=57726.0)][time_sort],\n",
    "         data_ra=data_ra[np.logical_and(data_eng>2.0,  data_day<=57726.0)][time_sort],\n",
    "         data_eng=data_eng[np.logical_and(data_eng>2.0, data_day<=57726.0)][time_sort],\n",
    "         data_dec=data_dec[np.logical_and(data_eng>2.0,  data_day<=57726.0)][time_sort],\n",
    "         data_file_year=data_file_year[np.logical_and(data_eng>2.0, data_day<=57726.0)][time_sort]) "
   ]
  },
  {
   "cell_type": "code",
   "execution_count": 6,
   "metadata": {},
   "outputs": [
    {
     "name": "stdout",
     "output_type": "stream",
     "text": [
      "931911\n"
     ]
    }
   ],
   "source": [
    "print(len(data_sigmas[np.logical_and(data_eng>2.0,  data_day<=57726.0)]))"
   ]
  },
  {
   "cell_type": "markdown",
   "metadata": {},
   "source": [
    "For energy analysis"
   ]
  },
  {
   "cell_type": "code",
   "execution_count": 7,
   "metadata": {},
   "outputs": [],
   "source": [
    "np.savez(\"./processed_data/output_icecube_data_energy.npz\",\n",
    "         data_day=data_day[np.logical_and(data_eng>2.0, data_dec>=0)],\n",
    "         data_sigmas=data_sigmas[np.logical_and(data_eng>2.0, data_dec>=0)],\n",
    "         data_ra=data_ra[np.logical_and(data_eng>2.0, data_dec>=0)],\n",
    "         data_eng=data_eng[np.logical_and(data_eng>2.0, data_dec>=0)],\n",
    "         data_dec=data_dec[np.logical_and(data_eng>2.0, data_dec>=0)],\n",
    "         data_file_year=data_file_year[np.logical_and(data_eng>2.0, data_dec>=0)]) "
   ]
  },
  {
   "cell_type": "code",
   "execution_count": 24,
   "metadata": {},
   "outputs": [
    {
     "name": "stdout",
     "output_type": "stream",
     "text": [
      "665481\n"
     ]
    }
   ],
   "source": [
    "print(len(data_ra[np.logical_and(data_eng>2.0, data_dec>=0)]))"
   ]
  },
  {
   "cell_type": "code",
   "execution_count": 7,
   "metadata": {},
   "outputs": [],
   "source": [
    "np.savez(\"./processed_data/output_icecube_data.npz\",\n",
    "         data_day=data_day[data_eng>2.0],\n",
    "         data_sigmas=data_sigmas[data_eng>2.0],\n",
    "         data_ra=data_ra[data_eng>2.0],\n",
    "         data_eng=data_eng[data_eng>2.0],\n",
    "         data_dec=data_dec[data_eng>2.0],\n",
    "         data_file_year=data_file_year[data_eng>2.0]) "
   ]
  },
  {
   "cell_type": "code",
   "execution_count": 8,
   "metadata": {},
   "outputs": [
    {
     "name": "stdout",
     "output_type": "stream",
     "text": [
      "[]\n"
     ]
    }
   ],
   "source": [
    "print(data_eng)"
   ]
  },
  {
   "cell_type": "code",
   "execution_count": null,
   "metadata": {},
   "outputs": [],
   "source": []
  }
 ],
 "metadata": {
  "kernelspec": {
   "display_name": "Python 3 (ipykernel)",
   "language": "python",
   "name": "python3"
  },
  "language_info": {
   "codemirror_mode": {
    "name": "ipython",
    "version": 3
   },
   "file_extension": ".py",
   "mimetype": "text/x-python",
   "name": "python",
   "nbconvert_exporter": "python",
   "pygments_lexer": "ipython3",
   "version": "3.11.0"
  }
 },
 "nbformat": 4,
 "nbformat_minor": 4
}
