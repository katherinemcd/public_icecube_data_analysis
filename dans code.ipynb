{
 "cells": [
  {
   "cell_type": "code",
   "execution_count": 4,
   "id": "1f1e9782",
   "metadata": {},
   "outputs": [],
   "source": [
    "import numpy as np\n",
    "import matplotlib.pyplot as plt\n",
    "import scipy \n",
    "import scipy.signal\n",
    "import pickle\n"
   ]
  },
  {
   "cell_type": "code",
   "execution_count": 5,
   "id": "df826e62",
   "metadata": {},
   "outputs": [],
   "source": [
    "\n",
    "# we want to find B_i\n",
    "# we do this by scrambling data in a 6 degree elevation angle band in the sky\n",
    "# we can't use a histogram since there is spill over between bands (we want a sweep over the sky)\n",
    "\n",
    "# Load up the IceCube data\n",
    "icecube_data = np.load(\"./output_icecube_data.npz\", allow_pickle=True)\n",
    "data_sigmas = np.array(icecube_data[\"data_sigmas\"])\n",
    "data_ra = np.array(icecube_data[\"data_ra\"])\n",
    "data_dec = np.array(icecube_data[\"data_dec\"])\n",
    "\n"
   ]
  },
  {
   "cell_type": "code",
   "execution_count": 7,
   "id": "29a82aee",
   "metadata": {},
   "outputs": [
    {
     "name": "stderr",
     "output_type": "stream",
     "text": [
      "<ipython-input-7-a8e11103120a>:34: IntegrationWarning: The maximum number of subdivisions (50) has been achieved.\n",
      "  If increasing the limit yields no improvement it is advised to analyze \n",
      "  the integrand in order to determine the difficulties.  If the position of a \n",
      "  local difficulty can be determined (singularity, discontinuity) one will \n",
      "  probably gain from splitting up the interval and calling the integrator \n",
      "  on the subranges.  Perhaps a special-purpose integrator should be used.\n",
      "  sweep_counts_norm, err = scipy.integrate.quad(f_sweep, -1.0, 1.0) # to normalize\n",
      "No handles with labels found to put in legend.\n"
     ]
    },
    {
     "data": {
      "image/png": "[encoded data removed]",
      "text/plain": [
       "<Figure size 432x288 with 1 Axes>"
      ]
     },
     "metadata": {
      "needs_background": "light"
     },
     "output_type": "display_data"
    },
    {
     "data": {
      "image/png": "[encoded data removed]",
      "text/plain": [
       "<Figure size 432x288 with 1 Axes>"
      ]
     },
     "metadata": {
      "needs_background": "light"
     },
     "output_type": "display_data"
    }
   ],
   "source": [
    "\n",
    "# remove events with no reported errors\n",
    "data_ra = data_ra[data_sigmas != 0.0]\n",
    "data_dec = data_dec[data_sigmas != 0.0]\n",
    "data_sigmas = data_sigmas[data_sigmas != 0.0]\n",
    "\n",
    "# convert the dec to a sine of dec, turns out to be useful in that format.\n",
    "data_sin_dec = np.sin(data_dec)\n",
    "\n",
    "N = float(len(data_sigmas))\n",
    "\n",
    "# size of bins\n",
    "size_of_band = np.deg2rad(3.0)\n",
    "\n",
    "rad_ll = np.deg2rad(-87.0)\n",
    "rad_ul = np.deg2rad(87.0)\n",
    "\n",
    "# sweep over different sin decs to calculate the B_i at that point\n",
    "sweep_dec = np.linspace(rad_ll, rad_ul, 1000)\n",
    "\n",
    "sweep_counts = np.zeros(len(sweep_dec))\n",
    "for i in range(len(sweep_dec)):\n",
    "    solid_angle = 2.0 * np.pi * np.sin(size_of_band) * np.cos(sweep_dec[i])\n",
    "    entries_in_band = np.abs(data_dec - sweep_dec[i]) < size_of_band\n",
    "    total_in_band = np.sum(entries_in_band)\n",
    "    sweep_counts[i] += total_in_band / solid_angle\n",
    "    \n",
    "f_sweep = scipy.interpolate.interp1d(np.sin(sweep_dec),\n",
    "                                     sweep_counts,\n",
    "                                     kind = 'cubic',\n",
    "                                     bounds_error = False,\n",
    "                                     fill_value = 0.0)\n",
    "\n",
    "# to perform the average, integrate over result and divide it out\n",
    "sweep_counts_norm, err = scipy.integrate.quad(f_sweep, -1.0, 1.0) # to normalize\n",
    "\n",
    "# equation 2.2 in the paper\n",
    "P_B = sweep_counts / sweep_counts_norm\n",
    "B_i = P_B / (2.0 * np.pi)\n",
    "\n",
    "np.savez(\"processed.npz\", dec = sweep_dec, B_i = B_i)\n",
    "\n",
    "plt.figure()\n",
    "plt.plot(np.sin(sweep_dec), B_i)\n",
    "plt.ylim(0.0, 0.2)\n",
    "plt.legend()\n",
    "\n",
    "# make a figure of the data sin dec, just a raw plot\n",
    "plt.figure()\n",
    "plt.title(\"3 Year IceCube Data, $\\sin(\\delta)$, N=\"+str(len(data_dec))+\" Events\")\n",
    "plt.hist(data_sin_dec, range=(-1, 1), bins=50)\n",
    "plt.xlabel(\"$\\sin(\\delta)$\")\n",
    "plt.xlim(-1.0, 1.0)\n",
    "plt.plot([np.sin(rad_ll), np.sin(rad_ll)], [0.0, 10000.0], color=\"red\")\n",
    "plt.plot([np.sin(rad_ul), np.sin(rad_ul)], [0.0, 10000.0], color=\"red\")\n",
    "\n",
    "\n",
    "plt.show()"
   ]
  },
  {
   "cell_type": "code",
   "execution_count": null,
   "id": "9efb7db0",
   "metadata": {},
   "outputs": [],
   "source": []
  }
 ],
 "metadata": {
  "kernelspec": {
   "display_name": "Python 3",
   "language": "python",
   "name": "python3"
  },
  "language_info": {
   "codemirror_mode": {
    "name": "ipython",
    "version": 3
   },
   "file_extension": ".py",
   "mimetype": "text/x-python",
   "name": "python",
   "nbconvert_exporter": "python",
   "pygments_lexer": "ipython3",
   "version": "3.8.8"
  }
 },
 "nbformat": 4,
 "nbformat_minor": 5
}
