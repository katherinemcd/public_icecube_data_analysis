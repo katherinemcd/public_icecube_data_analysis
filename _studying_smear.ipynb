{
 "cells": [
  {
   "cell_type": "code",
   "execution_count": 1,
   "id": "8db2470e",
   "metadata": {},
   "outputs": [],
   "source": [
    "import numpy as np\n",
    "import matplotlib.pyplot as plt"
   ]
  },
  {
   "cell_type": "code",
   "execution_count": 20,
   "id": "f7f7c3e4",
   "metadata": {},
   "outputs": [],
   "source": [
    "data_file_name = \"/Users/danielsmith/Downloads/icecube_10year_ps/irfs/IC86_I_smearing.csv\"\n",
    "data = np.loadtxt(data_file_name, dtype='float')"
   ]
  },
  {
   "cell_type": "code",
   "execution_count": 21,
   "id": "e046c36a",
   "metadata": {},
   "outputs": [
    {
     "name": "stdout",
     "output_type": "stream",
     "text": [
      "[[  2.     2.5  -90.   ...   0.     0.     0.  ]\n",
      " [  2.     2.5  -90.   ...   0.     0.     0.  ]\n",
      " [  2.     2.5  -90.   ...   0.     0.     0.  ]\n",
      " ...\n",
      " [  8.5    9.    10.   ...   2.37   2.74   0.  ]\n",
      " [  8.5    9.    10.   ...   2.74   3.17   0.  ]\n",
      " [  8.5    9.    10.   ...   3.17   3.67   0.  ]]\n"
     ]
    }
   ],
   "source": [
    "print(data)"
   ]
  },
  {
   "cell_type": "code",
   "execution_count": 22,
   "id": "0d948069",
   "metadata": {},
   "outputs": [],
   "source": [
    "e_nu_min = data[:, 0]\n",
    "e_nu_max = data[:, 1]\n",
    "e_mu_min = data[:, 5]\n",
    "e_mu_max = data[:, 6]"
   ]
  },
  {
   "cell_type": "code",
   "execution_count": 23,
   "id": "8a1ee15b",
   "metadata": {},
   "outputs": [
    {
     "data": {
      "text/plain": [
       "Text(0, 0.5, 'Muon energy log10(E_nu/GeV)')"
      ]
     },
     "execution_count": 23,
     "metadata": {},
     "output_type": "execute_result"
    },
    {
     "data": {
      "image/png": "[encoded data removed]",
      "text/plain": [
       "<Figure size 432x288 with 1 Axes>"
      ]
     },
     "metadata": {
      "needs_background": "light"
     },
     "output_type": "display_data"
    }
   ],
   "source": [
    "plt.scatter(e_nu_min, e_mu_min)\n",
    "plt.xlabel(\"Neutrino energy log10(E_nu/GeV)\")\n",
    "plt.ylabel(\"Muon energy log10(E_nu/GeV)\")"
   ]
  },
  {
   "cell_type": "code",
   "execution_count": 30,
   "id": "1cac7901",
   "metadata": {},
   "outputs": [
    {
     "data": {
      "text/plain": [
       "Text(0.5, 1.0, 'Energy Deposited in IceCube for Neutrino of energy 10^log10_e_nu GeV')"
      ]
     },
     "execution_count": 30,
     "metadata": {},
     "output_type": "execute_result"
    },
    {
     "data": {
      "image/png": "[encoded data removed]",
      "text/plain": [
       "<Figure size 432x288 with 1 Axes>"
      ]
     },
     "metadata": {
      "needs_background": "light"
     },
     "output_type": "display_data"
    }
   ],
   "source": [
    "log10_e_nu = 5\n",
    "\n",
    "plt.hist(e_mu_min[e_nu_min == log10_e_nu], range=(2, 9), bins=20)\n",
    "plt.xlabel(\"Muon Energy Proxy\")\n",
    "plt.title(\"Energy Deposited in IceCube for Neutrino of energy 10^log10_e_nu GeV\")"
   ]
  },
  {
   "cell_type": "code",
   "execution_count": null,
   "id": "ac2f4347",
   "metadata": {},
   "outputs": [],
   "source": []
  }
 ],
 "metadata": {
  "kernelspec": {
   "display_name": "Python 3 (ipykernel)",
   "language": "python",
   "name": "python3"
  },
  "language_info": {
   "codemirror_mode": {
    "name": "ipython",
    "version": 3
   },
   "file_extension": ".py",
   "mimetype": "text/x-python",
   "name": "python",
   "nbconvert_exporter": "python",
   "pygments_lexer": "ipython3",
   "version": "3.9.2"
  }
 },
 "nbformat": 4,
 "nbformat_minor": 5
}
