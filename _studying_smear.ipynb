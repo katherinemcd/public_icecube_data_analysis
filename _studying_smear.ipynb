{
 "cells": [
  {
   "cell_type": "code",
   "execution_count": 31,
   "id": "8db2470e",
   "metadata": {},
   "outputs": [],
   "source": [
    "import numpy as np\n",
    "import matplotlib.pyplot as plt"
   ]
  },
  {
   "cell_type": "code",
   "execution_count": 32,
   "id": "f7f7c3e4",
   "metadata": {},
   "outputs": [],
   "source": [
    "data_file_name = \"/Users/katherinemcdonough/Desktop/Third_year/lab/icecube_10year_ps/irfs/IC86_I_smearing.csv\"\n",
    "data = np.loadtxt(data_file_name, dtype='float')"
   ]
  },
  {
   "cell_type": "code",
   "execution_count": 33,
   "id": "e046c36a",
   "metadata": {},
   "outputs": [
    {
     "name": "stdout",
     "output_type": "stream",
     "text": [
      "[[  2.     2.5  -90.   ...   0.     0.     0.  ]\n",
      " [  2.     2.5  -90.   ...   0.     0.     0.  ]\n",
      " [  2.     2.5  -90.   ...   0.     0.     0.  ]\n",
      " ...\n",
      " [  8.5    9.    10.   ...   2.37   2.74   0.  ]\n",
      " [  8.5    9.    10.   ...   2.74   3.17   0.  ]\n",
      " [  8.5    9.    10.   ...   3.17   3.67   0.  ]]\n"
     ]
    }
   ],
   "source": [
    "print(data)"
   ]
  },
  {
   "cell_type": "code",
   "execution_count": 81,
   "id": "0d948069",
   "metadata": {},
   "outputs": [
    {
     "name": "stdout",
     "output_type": "stream",
     "text": [
      "369600\n"
     ]
    }
   ],
   "source": [
    "e_nu_min = data[:, 0]\n",
    "e_nu_max = data[:, 1]\n",
    "dec_min = data[:, 2]\n",
    "e_mu_min = data[:, 5]\n",
    "e_mu_max = data[:, 6]\n",
    "print(len(e_nu_min))"
   ]
  },
  {
   "cell_type": "code",
   "execution_count": 82,
   "id": "8a1ee15b",
   "metadata": {},
   "outputs": [
    {
     "data": {
      "text/plain": [
       "Text(0, 0.5, 'Muon energy log10(E_nu/GeV)')"
      ]
     },
     "execution_count": 82,
     "metadata": {},
     "output_type": "execute_result"
    },
    {
     "data": {
      "image/png": "[encoded data removed]",
      "text/plain": [
       "<Figure size 432x288 with 1 Axes>"
      ]
     },
     "metadata": {
      "needs_background": "light"
     },
     "output_type": "display_data"
    }
   ],
   "source": [
    "plt.scatter(e_nu_min, e_mu_min)\n",
    "plt.xlabel(\"Neutrino energy log10(E_nu/GeV)\")\n",
    "plt.ylabel(\"Muon energy log10(E_nu/GeV)\")"
   ]
  },
  {
   "cell_type": "code",
   "execution_count": 91,
   "id": "1cac7901",
   "metadata": {},
   "outputs": [
    {
     "name": "stdout",
     "output_type": "stream",
     "text": [
      "[-90. -10.  10.]\n"
     ]
    },
    {
     "data": {
      "text/plain": [
       "Text(0.5, 1.0, 'Energy Deposited in IceCube for Neutrino of energy 10^log10_e_nu GeV')"
      ]
     },
     "execution_count": 91,
     "metadata": {},
     "output_type": "execute_result"
    },
    {
     "data": {
      "image/png": "[encoded data removed]",
      "text/plain": [
       "<Figure size 432x288 with 1 Axes>"
      ]
     },
     "metadata": {
      "needs_background": "light"
     },
     "output_type": "display_data"
    }
   ],
   "source": [
    "dec_min_val = -10\n",
    "hello = np.zeros(len(e_nu_min[e_nu_min == 2.5]))\n",
    "goodbye = np.zeros(len(e_nu_min[e_nu_min == 2.5]))\n",
    "hola = np.zeros(len(e_nu_min[e_mu_min == 3.232\n",
    "]))\n",
    "hello = e_mu_min[e_nu_min == 2.5]\n",
    "hola = e_nu_max[e_mu_min == 3.232]\n",
    "goodbye = dec_min[e_nu_min == 2.5]\n",
    "\n",
    "plt.hist(hello[goodbye == dec_min_val],bins=100)\n",
    "#plt.hist(goodbye, bins=20)\n",
    "print(np.unique(goodbye))\n",
    "plt.xlabel(\"Neutrino Energy Log10 e_nu GeV\")\n",
    "plt.title(\"Energy Deposited in IceCube for Neutrino of energy 10^log10_e_nu GeV\")"
   ]
  },
  {
   "cell_type": "code",
   "execution_count": null,
   "id": "ac2f4347",
   "metadata": {},
   "outputs": [],
   "source": []
  },
  {
   "cell_type": "code",
   "execution_count": null,
   "id": "9c5e74a9",
   "metadata": {},
   "outputs": [],
   "source": []
  }
 ],
 "metadata": {
  "kernelspec": {
   "display_name": "Python 3",
   "language": "python",
   "name": "python3"
  },
  "language_info": {
   "codemirror_mode": {
    "name": "ipython",
    "version": 3
   },
   "file_extension": ".py",
   "mimetype": "text/x-python",
   "name": "python",
   "nbconvert_exporter": "python",
   "pygments_lexer": "ipython3",
   "version": "3.8.8"
  }
 },
 "nbformat": 4,
 "nbformat_minor": 5
}
